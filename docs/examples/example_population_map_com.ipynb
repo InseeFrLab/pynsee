{
 "cells": [
  {
   "cell_type": "markdown",
   "id": "7ff094e3-0107-4531-84ed-87717ef29beb",
   "metadata": {},
   "source": [
    "# Population by commune"
   ]
  },
  {
   "cell_type": "code",
   "execution_count": 1,
   "id": "db3b32b1-99e9-443e-89c2-4ea5823c983c",
   "metadata": {},
   "outputs": [
    {
     "name": "stderr",
     "output_type": "stream",
     "text": [
      "/usr/local/lib/python3.12/site-packages/tqdm/auto.py:21: TqdmWarning: IProgress not found. Please update jupyter and ipywidgets. See https://ipywidgets.readthedocs.io/en/stable/user_install.html\n",
      "  from .autonotebook import tqdm as notebook_tqdm\n"
     ]
    }
   ],
   "source": [
    "from pynsee.geodata import get_geodata_list, get_geodata\n",
    "\n",
    "import math\n",
    "import pandas as pd\n",
    "from pandas.api.types import CategoricalDtype\n",
    "import matplotlib.cm as cm\n",
    "import matplotlib.pyplot as plt\n",
    "import descartes"
   ]
  },
  {
   "cell_type": "code",
   "execution_count": 2,
   "id": "99d8bad6-0a3f-4f12-aced-e80484330b0f",
   "metadata": {},
   "outputs": [],
   "source": [
    "import logging\n",
    "import sys\n",
    "logging.basicConfig(stream=sys.stdout,\n",
    "                    level=logging.INFO, \n",
    "                    format=\"%(message)s\")"
   ]
  },
  {
   "cell_type": "code",
   "execution_count": 3,
   "id": "baa0111b-4079-46e1-a5e4-9a17b3adceca",
   "metadata": {},
   "outputs": [
    {
     "name": "stdout",
     "output_type": "stream",
     "text": [
      "Previously saved data has been used:\n",
      "/home/onyxia/.cache/pynsee/pynsee/e879822687bab4b12f23762b5d56742b.parquet\n",
      "Creation date: 2025-06-23, today\n",
      "Set update=True to get the most up-to-date data\n",
      "INSEE API credentials have not been found: please try to reuse pynsee.init_conn to save them locally.\n",
      "Otherwise, you can still use environment variables as follow:\n",
      "\n",
      "import os\n",
      "os.environ['sirene_key'] = 'my_sirene_key'\n",
      "https://data.geopf.fr/wfs/ows?service=WFS&version=2.0.0&request=GetFeature&typenames=ADMINEXPRESS-COG-CARTO.LATEST:commune&resultType=hits\n",
      "https://data.geopf.fr/wfs/?service=WFS&version=2.0.0&request=GetFeature&typenames=ADMINEXPRESS-COG-CARTO.LATEST:commune&outputFormat=application/json&startIndex=0&count=5000&srsName=EPSG:3857\n",
      "https://data.geopf.fr/wfs/?service=WFS&version=2.0.0&request=GetFeature&typenames=ADMINEXPRESS-COG-CARTO.LATEST:commune&outputFormat=application/json&startIndex=10000&count=5000&srsName=EPSG:3857\n",
      "https://data.geopf.fr/wfs/?service=WFS&version=2.0.0&request=GetFeature&typenames=ADMINEXPRESS-COG-CARTO.LATEST:commune&outputFormat=application/json&startIndex=15000&count=5000&srsName=EPSG:3857\n",
      "https://data.geopf.fr/wfs/?service=WFS&version=2.0.0&request=GetFeature&typenames=ADMINEXPRESS-COG-CARTO.LATEST:commune&outputFormat=application/json&startIndex=5000&count=5000&srsName=EPSG:3857\n",
      "https://data.geopf.fr/wfs/?service=WFS&version=2.0.0&request=GetFeature&typenames=ADMINEXPRESS-COG-CARTO.LATEST:commune&outputFormat=application/json&startIndex=25000&count=5000&srsName=EPSG:3857\n",
      "https://data.geopf.fr/wfs/?service=WFS&version=2.0.0&request=GetFeature&typenames=ADMINEXPRESS-COG-CARTO.LATEST:commune&outputFormat=application/json&startIndex=20000&count=5000&srsName=EPSG:3857\n",
      "https://data.geopf.fr/wfs/?service=WFS&version=2.0.0&request=GetFeature&typenames=ADMINEXPRESS-COG-CARTO.LATEST:commune&outputFormat=application/json&startIndex=30000&count=5000&srsName=EPSG:3857\n"
     ]
    },
    {
     "name": "stderr",
     "output_type": "stream",
     "text": [
      "100%|██████████| 7/7 [00:09<00:00,  1.31s/it]\n"
     ]
    },
    {
     "name": "stdout",
     "output_type": "stream",
     "text": [
      "Data saved:\n",
      "/home/onyxia/.cache/pynsee/pynsee/6cb5dc200198fcdb00222fe8b8f7945b.parquet\n"
     ]
    }
   ],
   "source": [
    "# get geographical data list\n",
    "geodata_list = get_geodata_list()\n",
    "# get departments geographical limits\n",
    "com = get_geodata('ADMINEXPRESS-COG-CARTO.LATEST:commune', update=True).to_crs(\"EPSG:3035\")"
   ]
  },
  {
   "cell_type": "code",
   "execution_count": 4,
   "id": "e53141ae-55ab-4803-8e58-adc26a59d0f9",
   "metadata": {},
   "outputs": [
    {
     "data": {
      "text/html": [
       "<div>\n",
       "<style scoped>\n",
       "    .dataframe tbody tr th:only-of-type {\n",
       "        vertical-align: middle;\n",
       "    }\n",
       "\n",
       "    .dataframe tbody tr th {\n",
       "        vertical-align: top;\n",
       "    }\n",
       "\n",
       "    .dataframe thead th {\n",
       "        text-align: right;\n",
       "    }\n",
       "</style>\n",
       "<table border=\"1\" class=\"dataframe\">\n",
       "  <thead>\n",
       "    <tr style=\"text-align: right;\">\n",
       "      <th></th>\n",
       "      <th>geometry</th>\n",
       "      <th>cleabs</th>\n",
       "      <th>nom_officiel</th>\n",
       "      <th>nom_officiel_en_majuscules</th>\n",
       "      <th>statut</th>\n",
       "      <th>code_insee</th>\n",
       "      <th>population</th>\n",
       "      <th>date_du_recensement</th>\n",
       "      <th>organisme_recenseur</th>\n",
       "      <th>code_insee_du_canton</th>\n",
       "      <th>code_insee_de_l_arrondissement</th>\n",
       "      <th>code_insee_du_departement</th>\n",
       "      <th>code_insee_de_la_region</th>\n",
       "      <th>code_siren</th>\n",
       "      <th>codes_siren_des_epci</th>\n",
       "      <th>code_postal</th>\n",
       "      <th>superficie_cadastrale</th>\n",
       "    </tr>\n",
       "  </thead>\n",
       "  <tbody>\n",
       "    <tr>\n",
       "      <th>0</th>\n",
       "      <td>MULTIPOLYGON (((3931418.575 2573235.55, 393139...</td>\n",
       "      <td>COMMUNE_0000000000001001</td>\n",
       "      <td>L'Abergement-Clémenciat</td>\n",
       "      <td>L'ABERGEMENT-CLEMENCIAT</td>\n",
       "      <td>Commune simple</td>\n",
       "      <td>01001</td>\n",
       "      <td>859</td>\n",
       "      <td>2022-01-01Z</td>\n",
       "      <td>INSEE</td>\n",
       "      <td>0108</td>\n",
       "      <td>012</td>\n",
       "      <td>01</td>\n",
       "      <td>84</td>\n",
       "      <td>210100012</td>\n",
       "      <td>200069193</td>\n",
       "      <td>01400</td>\n",
       "      <td>1590</td>\n",
       "    </tr>\n",
       "    <tr>\n",
       "      <th>1</th>\n",
       "      <td>MULTIPOLYGON (((3966704.772 2551978.874, 39666...</td>\n",
       "      <td>COMMUNE_0000000000001002</td>\n",
       "      <td>L'Abergement-de-Varey</td>\n",
       "      <td>L'ABERGEMENT-DE-VAREY</td>\n",
       "      <td>Commune simple</td>\n",
       "      <td>01002</td>\n",
       "      <td>273</td>\n",
       "      <td>2022-01-01Z</td>\n",
       "      <td>INSEE</td>\n",
       "      <td>0101</td>\n",
       "      <td>011</td>\n",
       "      <td>01</td>\n",
       "      <td>84</td>\n",
       "      <td>210100020</td>\n",
       "      <td>240100883</td>\n",
       "      <td>01640</td>\n",
       "      <td>920</td>\n",
       "    </tr>\n",
       "  </tbody>\n",
       "</table>\n",
       "</div>"
      ],
      "text/plain": [
       "                                            geometry  \\\n",
       "0  MULTIPOLYGON (((3931418.575 2573235.55, 393139...   \n",
       "1  MULTIPOLYGON (((3966704.772 2551978.874, 39666...   \n",
       "\n",
       "                     cleabs             nom_officiel  \\\n",
       "0  COMMUNE_0000000000001001  L'Abergement-Clémenciat   \n",
       "1  COMMUNE_0000000000001002    L'Abergement-de-Varey   \n",
       "\n",
       "  nom_officiel_en_majuscules          statut code_insee  population  \\\n",
       "0    L'ABERGEMENT-CLEMENCIAT  Commune simple      01001         859   \n",
       "1      L'ABERGEMENT-DE-VAREY  Commune simple      01002         273   \n",
       "\n",
       "  date_du_recensement organisme_recenseur code_insee_du_canton  \\\n",
       "0         2022-01-01Z               INSEE                 0108   \n",
       "1         2022-01-01Z               INSEE                 0101   \n",
       "\n",
       "  code_insee_de_l_arrondissement code_insee_du_departement  \\\n",
       "0                            012                        01   \n",
       "1                            011                        01   \n",
       "\n",
       "  code_insee_de_la_region code_siren codes_siren_des_epci code_postal  \\\n",
       "0                      84  210100012            200069193       01400   \n",
       "1                      84  210100020            240100883       01640   \n",
       "\n",
       "   superficie_cadastrale  \n",
       "0                   1590  \n",
       "1                    920  "
      ]
     },
     "execution_count": 4,
     "metadata": {},
     "output_type": "execute_result"
    }
   ],
   "source": [
    "com[:2]"
   ]
  },
  {
   "cell_type": "code",
   "execution_count": 6,
   "id": "ce1a3f6e-83b8-473c-b342-9ca574f9387f",
   "metadata": {},
   "outputs": [],
   "source": [
    "com[\"area\"] = com['geometry'].area / 10**6\n",
    "mapcom = com.to_crs(epsg=3857)\n",
    "\n",
    "mapcom['REF_AREA'] = 'D' + mapcom['code_insee_du_departement']\n",
    "mapcom['density'] = mapcom['population'] / mapcom['area'] "
   ]
  },
  {
   "cell_type": "code",
   "execution_count": 7,
   "id": "4fe56ec9-b848-44f2-a5c6-865e1a4c0476",
   "metadata": {},
   "outputs": [
    {
     "name": "stdout",
     "output_type": "stream",
     "text": [
      "https://data.geopf.fr/wfs/ows?service=WFS&version=2.0.0&request=GetFeature&typenames=ADMINEXPRESS-COG-CARTO.LATEST:departement&resultType=hits\n",
      "https://data.geopf.fr/wfs/?service=WFS&version=2.0.0&request=GetFeature&typenames=ADMINEXPRESS-COG-CARTO.LATEST:departement&outputFormat=application/json&startIndex=0&count=101&srsName=EPSG:3857\n",
      "Data saved:\n",
      "/home/onyxia/.cache/pynsee/pynsee/f2bbdea5546ef02791b1286f1b6b1a51.parquet\n"
     ]
    },
    {
     "ename": "ValueError",
     "evalue": "Could not get department geometries.",
     "output_type": "error",
     "traceback": [
      "\u001b[31m---------------------------------------------------------------------------\u001b[39m",
      "\u001b[31mValueError\u001b[39m                                Traceback (most recent call last)",
      "\u001b[36mCell\u001b[39m\u001b[36m \u001b[39m\u001b[32mIn[7]\u001b[39m\u001b[32m, line 1\u001b[39m\n\u001b[32m----> \u001b[39m\u001b[32m1\u001b[39m mapcom = \u001b[43mmapcom\u001b[49m\u001b[43m.\u001b[49m\u001b[43mtransform_overseas\u001b[49m\u001b[43m(\u001b[49m\n\u001b[32m      2\u001b[39m \u001b[43m    \u001b[49m\u001b[43mdepartement\u001b[49m\u001b[43m=\u001b[49m\u001b[43m[\u001b[49m\u001b[33;43m'\u001b[39;49m\u001b[33;43m971\u001b[39;49m\u001b[33;43m'\u001b[39;49m\u001b[43m,\u001b[49m\u001b[43m \u001b[49m\u001b[33;43m'\u001b[39;49m\u001b[33;43m972\u001b[39;49m\u001b[33;43m'\u001b[39;49m\u001b[43m,\u001b[49m\u001b[43m \u001b[49m\u001b[33;43m'\u001b[39;49m\u001b[33;43m974\u001b[39;49m\u001b[33;43m'\u001b[39;49m\u001b[43m,\u001b[49m\u001b[43m \u001b[49m\u001b[33;43m'\u001b[39;49m\u001b[33;43m973\u001b[39;49m\u001b[33;43m'\u001b[39;49m\u001b[43m,\u001b[49m\u001b[43m \u001b[49m\u001b[33;43m'\u001b[39;49m\u001b[33;43m976\u001b[39;49m\u001b[33;43m'\u001b[39;49m\u001b[43m]\u001b[49m\u001b[43m,\u001b[49m\u001b[43m  \u001b[49m\u001b[43mfactor\u001b[49m\u001b[43m=\u001b[49m\u001b[43m[\u001b[49m\u001b[32;43m1.5\u001b[39;49m\u001b[43m,\u001b[49m\u001b[43m \u001b[49m\u001b[32;43m1.5\u001b[39;49m\u001b[43m,\u001b[49m\u001b[43m \u001b[49m\u001b[32;43m1.5\u001b[39;49m\u001b[43m,\u001b[49m\u001b[43m \u001b[49m\u001b[32;43m0.35\u001b[39;49m\u001b[43m,\u001b[49m\u001b[43m \u001b[49m\u001b[32;43m1.5\u001b[39;49m\u001b[43m]\u001b[49m\u001b[43m)\u001b[49m\n",
      "\u001b[36mFile \u001b[39m\u001b[32m/usr/local/lib/python3.12/site-packages/pynsee/geodata/geofrdataframe.py:83\u001b[39m, in \u001b[36mGeoFrDataFrame.transform_overseas\u001b[39m\u001b[34m(self, *args, **kwargs)\u001b[39m\n\u001b[32m     76\u001b[39m \u001b[38;5;250m\u001b[39m\u001b[33;03m\"\"\"\u001b[39;00m\n\u001b[32m     77\u001b[39m \u001b[33;03mApply translation and zoom to oversea territories.\u001b[39;00m\n\u001b[32m     78\u001b[39m \n\u001b[32m     79\u001b[39m \u001b[33;03mSee: :func:`pynsee.geodata.transform_overseas`.\u001b[39;00m\n\u001b[32m     80\u001b[39m \u001b[33;03m\"\"\"\u001b[39;00m\n\u001b[32m     81\u001b[39m \u001b[38;5;28;01mfrom\u001b[39;00m\u001b[38;5;250m \u001b[39m\u001b[34;01m.\u001b[39;00m\u001b[34;01mtranslate_and_zoom\u001b[39;00m\u001b[38;5;250m \u001b[39m\u001b[38;5;28;01mimport\u001b[39;00m transform_overseas\n\u001b[32m---> \u001b[39m\u001b[32m83\u001b[39m \u001b[38;5;28;01mreturn\u001b[39;00m \u001b[43mtransform_overseas\u001b[49m\u001b[43m(\u001b[49m\u001b[38;5;28;43mself\u001b[39;49m\u001b[43m,\u001b[49m\u001b[43m \u001b[49m\u001b[43m*\u001b[49m\u001b[43margs\u001b[49m\u001b[43m,\u001b[49m\u001b[43m \u001b[49m\u001b[43m*\u001b[49m\u001b[43m*\u001b[49m\u001b[43mkwargs\u001b[49m\u001b[43m)\u001b[49m\n",
      "\u001b[36mFile \u001b[39m\u001b[32m/usr/local/lib/python3.12/site-packages/pynsee/geodata/translate_and_zoom.py:79\u001b[39m, in \u001b[36mtransform_overseas\u001b[39m\u001b[34m(gdf, departement, factor, center, radius, angle, startAngle)\u001b[39m\n\u001b[32m     77\u001b[39m     geocol = gdf.geometry.name\n\u001b[32m     78\u001b[39m \u001b[38;5;28;01melse\u001b[39;00m:\n\u001b[32m---> \u001b[39m\u001b[32m79\u001b[39m     gdf = \u001b[43m_add_insee_dep\u001b[49m\u001b[43m(\u001b[49m\u001b[43mgdf\u001b[49m\u001b[43m.\u001b[49m\u001b[43mcopy\u001b[49m\u001b[43m(\u001b[49m\u001b[43m)\u001b[49m\u001b[43m)\u001b[49m\n\u001b[32m     81\u001b[39m offshore_points = _make_offshore_points(\n\u001b[32m     82\u001b[39m     center=Point(center),\n\u001b[32m     83\u001b[39m     list_ovdep=departement,\n\u001b[32m   (...)\u001b[39m\u001b[32m     86\u001b[39m     startAngle=startAngle,\n\u001b[32m     87\u001b[39m )\n\u001b[32m     89\u001b[39m \u001b[38;5;66;03m# keep only specific departements\u001b[39;00m\n",
      "\u001b[36mFile \u001b[39m\u001b[32m/usr/local/lib/python3.12/site-packages/pynsee/geodata/_add_insee_dep.py:22\u001b[39m, in \u001b[36m_add_insee_dep\u001b[39m\u001b[34m(gdf)\u001b[39m\n\u001b[32m     19\u001b[39m         gdf = _add_insee_dep_from_geodata(gdf)\n\u001b[32m     21\u001b[39m \u001b[38;5;28;01mif\u001b[39;00m \u001b[33m\"\u001b[39m\u001b[33minsee_dep_geometry\u001b[39m\u001b[33m\"\u001b[39m \u001b[38;5;129;01mnot\u001b[39;00m \u001b[38;5;129;01min\u001b[39;00m gdf:\n\u001b[32m---> \u001b[39m\u001b[32m22\u001b[39m     \u001b[38;5;28;01mraise\u001b[39;00m \u001b[38;5;167;01mValueError\u001b[39;00m(\u001b[33m\"\u001b[39m\u001b[33mCould not get department geometries.\u001b[39m\u001b[33m\"\u001b[39m)\n\u001b[32m     24\u001b[39m \u001b[38;5;28;01mreturn\u001b[39;00m gdf\n",
      "\u001b[31mValueError\u001b[39m: Could not get department geometries."
     ]
    }
   ],
   "source": [
    "mapcom = mapcom.transform_overseas(\n",
    "    departement=['971', '972', '974', '973', '976'],  factor=[1.5, 1.5, 1.5, 0.35, 1.5])"
   ]
  },
  {
   "cell_type": "code",
   "execution_count": null,
   "id": "faa10044-39bc-4d50-a949-24a68b7f319c",
   "metadata": {},
   "outputs": [],
   "source": [
    "mapcom = mapcom.zoom(departement = [\"75\",\"92\", \"93\", \"91\", \"77\", \"78\", \"95\", \"94\"],\n",
    "                     factor=1.5, startAngle = math.pi * (1 - 3 * 1/9))"
   ]
  },
  {
   "cell_type": "code",
   "execution_count": null,
   "id": "b2cf66cc-c08f-435d-90f6-d437af455e09",
   "metadata": {},
   "outputs": [],
   "source": [
    "mapcom.loc[mapcom.density < 40, 'range'] = \"< 40\"\n",
    "mapcom.loc[mapcom.density >= 20000, 'range'] = \"> 20 000\"\n",
    "\n",
    "density_ranges = [40, 80, 100, 120, 150, 200, 250, 400, 600, 1000, 2000, 5000, 10000, 20000]\n",
    "list_ranges = []\n",
    "list_ranges.append( \"< 40\")\n",
    "\n",
    "for i in range(len(density_ranges)-1):\n",
    "    min_range = density_ranges[i]\n",
    "    max_range = density_ranges[i+1]\n",
    "    range_string = \"[{}, {}[\".format(min_range, max_range)\n",
    "    mapcom.loc[(mapcom.density >= min_range) & (mapcom.density < max_range), 'range'] = range_string\n",
    "    list_ranges.append(range_string)\n",
    "\n",
    "list_ranges.append(\"> 20 000\")\n",
    "\n",
    "mapcom['range'] = mapcom['range'].astype(CategoricalDtype(categories=list_ranges, ordered=True))  "
   ]
  },
  {
   "cell_type": "code",
   "execution_count": null,
   "id": "875edb67-5782-45bf-9766-8d1a06352160",
   "metadata": {},
   "outputs": [],
   "source": [
    "fig, ax = plt.subplots(1,1,figsize=[15,15])\n",
    "mapcom.plot(column='range', cmap=cm.viridis,\n",
    "    legend=True, ax=ax,\n",
    "    legend_kwds={'bbox_to_anchor': (1.1, 0.8),\n",
    "                 'title':'density per km2'})\n",
    "ax.set_axis_off()\n",
    "ax.set(title='Distribution of population in France')\n",
    "plt.show()\n",
    "\n",
    "fig.savefig('pop_france.svg',\n",
    "            format='svg', dpi=1200,\n",
    "            bbox_inches = 'tight',\n",
    "            pad_inches = 0)"
   ]
  }
 ],
 "metadata": {
  "kernelspec": {
   "display_name": "Python 3 (ipykernel)",
   "language": "python",
   "name": "python3"
  },
  "language_info": {
   "codemirror_mode": {
    "name": "ipython",
    "version": 3
   },
   "file_extension": ".py",
   "mimetype": "text/x-python",
   "name": "python",
   "nbconvert_exporter": "python",
   "pygments_lexer": "ipython3",
   "version": "3.12.11"
  }
 },
 "nbformat": 4,
 "nbformat_minor": 5
}
